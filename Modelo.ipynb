{
  "nbformat": 4,
  "nbformat_minor": 0,
  "metadata": {
    "colab": {
      "name": "Modelo.ipynb",
      "provenance": [],
      "authorship_tag": "ABX9TyPym2Ol3YWVs6L4BRFESzce",
      "include_colab_link": true
    },
    "kernelspec": {
      "name": "python3",
      "display_name": "Python 3"
    }
  },
  "cells": [
    {
      "cell_type": "markdown",
      "metadata": {
        "id": "view-in-github",
        "colab_type": "text"
      },
      "source": [
        "<a href=\"https://colab.research.google.com/github/Domadrona/Model/blob/main/Modelo.ipynb\" target=\"_parent\"><img src=\"https://colab.research.google.com/assets/colab-badge.svg\" alt=\"Open In Colab\"/></a>"
      ]
    },
    {
      "cell_type": "markdown",
      "metadata": {
        "id": "JNWcCaO4oy4I"
      },
      "source": [
        "### Modelo clasificador \n",
        "Recordar añadir archivo features.npy"
      ]
    },
    {
      "cell_type": "code",
      "metadata": {
        "id": "vdkiLyXioxrr"
      },
      "source": [
        "from sklearn.svm import SVC\n",
        "from sklearn.model_selection import train_test_split\n",
        "from sklearn.metrics import classification_report\n",
        "from sklearn.metrics import confusion_matrix\n",
        "from sklearn.metrics import plot_confusion_matrix\n",
        "import matplotlib.pyplot as plt\n",
        "import numpy as np\n",
        "\n",
        "features = np.load('features.npy')\n",
        "X = features[:,0:-1]\n",
        "y = features[:,-1]"
      ],
      "execution_count": 32,
      "outputs": []
    },
    {
      "cell_type": "markdown",
      "metadata": {
        "id": "fSTTGocskkuf"
      },
      "source": [
        "Definir Parámetros y Entrenar"
      ]
    },
    {
      "cell_type": "code",
      "metadata": {
        "id": "9V_9dejpkD33"
      },
      "source": [
        "X_train, X_test, y_train, y_test = train_test_split(X,y,test_size=0.3,random_state=42)\n",
        "clf = SVC(C=100, gamma=1,kernel='rbf')#SVC(kernel='linear')\n",
        "clf.fit(X_train, y_train)"
      ],
      "execution_count": null,
      "outputs": []
    },
    {
      "cell_type": "markdown",
      "metadata": {
        "id": "0XjGc5IUkua8"
      },
      "source": [
        "Predecir y Evaluar"
      ]
    },
    {
      "cell_type": "code",
      "metadata": {
        "id": "d24ajozOpFJK",
        "outputId": "4d1cee29-f33c-45d0-e23c-7445fadfa740",
        "colab": {
          "base_uri": "https://localhost:8080/"
        }
      },
      "source": [
        "y_pred = clf.predict(X_test)\n",
        "svm=classification_report(y_test, y_pred)\n",
        "print(classification_report(y_test, y_pred))\n",
        "print(\"Exactitud:\",round(metrics.accuracy_score(y_test, y_pred)*100,0),'%')\n",
        "print('Matriz de confusión')\n",
        "print(confusion_matrix(y_test, y_pred))"
      ],
      "execution_count": 25,
      "outputs": [
        {
          "output_type": "stream",
          "text": [
            "Duración svm:  0.02495741844177246\n",
            "              precision    recall  f1-score   support\n",
            "\n",
            "         1.0       0.78      0.88      0.82        40\n",
            "         2.0       0.93      0.88      0.90        42\n",
            "         3.0       0.87      0.81      0.84        42\n",
            "         4.0       0.87      0.79      0.83        33\n",
            "         5.0       0.87      0.96      0.92        28\n",
            "\n",
            "    accuracy                           0.86       185\n",
            "   macro avg       0.86      0.86      0.86       185\n",
            "weighted avg       0.86      0.86      0.86       185\n",
            "\n",
            "Exactitud: 86.0 %\n",
            "Matriz de confusión\n",
            "[[35  1  2  0  2]\n",
            " [ 4 37  1  0  0]\n",
            " [ 2  2 34  3  1]\n",
            " [ 4  0  2 26  1]\n",
            " [ 0  0  0  1 27]]\n"
          ],
          "name": "stdout"
        }
      ]
    },
    {
      "cell_type": "code",
      "metadata": {
        "id": "43QIpa3YpLZV",
        "outputId": "37ba4dec-9f7d-4e95-da06-513e683d4834",
        "colab": {
          "base_uri": "https://localhost:8080/",
          "height": 296
        }
      },
      "source": [
        "plot_confusion_matrix(clf, X_test, y_test) "
      ],
      "execution_count": 26,
      "outputs": [
        {
          "output_type": "execute_result",
          "data": {
            "text/plain": [
              "<sklearn.metrics._plot.confusion_matrix.ConfusionMatrixDisplay at 0x7f7018caa940>"
            ]
          },
          "metadata": {
            "tags": []
          },
          "execution_count": 26
        },
        {
          "output_type": "display_data",
          "data": {
            "image/png": "[encoded data removed]",
            "text/plain": [
              "<Figure size 432x288 with 2 Axes>"
            ]
          },
          "metadata": {
            "tags": [],
            "needs_background": "light"
          }
        }
      ]
    },
    {
      "cell_type": "markdown",
      "metadata": {
        "id": "Y06heEntkzeU"
      },
      "source": [
        "Guardar modelo para producción"
      ]
    },
    {
      "cell_type": "code",
      "metadata": {
        "id": "8xM3D54MjDP3",
        "outputId": "cacd092b-1c64-4f67-dc05-865cdf265fa5",
        "colab": {
          "base_uri": "https://localhost:8080/"
        }
      },
      "source": [
        "import joblib\n",
        "joblib.dump(clf, 'modelo_entrenado.pkl')"
      ],
      "execution_count": 29,
      "outputs": [
        {
          "output_type": "execute_result",
          "data": {
            "text/plain": [
              "['modelo_entrenado.pkl']"
            ]
          },
          "metadata": {
            "tags": []
          },
          "execution_count": 29
        }
      ]
    },
    {
      "cell_type": "markdown",
      "metadata": {
        "id": "GmhHZtZ7k4gU"
      },
      "source": [
        "Verificar que modelo esté funcionando"
      ]
    },
    {
      "cell_type": "code",
      "metadata": {
        "id": "jwMshI8NjhTn",
        "outputId": "fe41432f-c1d7-4be3-d561-05b6a8d640f6",
        "colab": {
          "base_uri": "https://localhost:8080/"
        }
      },
      "source": [
        "modelo = joblib.load('modelo_entrenado.pkl')\n",
        "\n",
        "Ypredict = modelo.predict(X_test)\n",
        "Ypredict"
      ],
      "execution_count": 31,
      "outputs": [
        {
          "output_type": "execute_result",
          "data": {
            "text/plain": [
              "array([1., 1., 3., 3., 2., 2., 4., 1., 4., 1., 1., 3., 3., 5., 3., 3., 3.,\n",
              "       1., 3., 2., 3., 3., 1., 5., 3., 5., 3., 5., 2., 4., 4., 5., 1., 2.,\n",
              "       5., 3., 1., 2., 2., 2., 3., 5., 5., 2., 2., 2., 1., 1., 1., 1., 1.,\n",
              "       2., 1., 5., 5., 1., 1., 1., 3., 4., 2., 5., 2., 1., 5., 2., 1., 1.,\n",
              "       2., 4., 5., 1., 1., 4., 1., 2., 2., 3., 5., 5., 5., 2., 2., 4., 2.,\n",
              "       1., 1., 5., 2., 3., 3., 2., 1., 4., 3., 1., 5., 3., 2., 2., 2., 1.,\n",
              "       1., 3., 3., 3., 1., 5., 4., 4., 3., 4., 3., 3., 4., 5., 3., 4., 2.,\n",
              "       3., 5., 3., 2., 2., 1., 1., 2., 4., 5., 2., 5., 1., 4., 1., 1., 1.,\n",
              "       4., 3., 5., 2., 3., 3., 1., 2., 2., 3., 4., 5., 1., 3., 4., 3., 4.,\n",
              "       1., 5., 2., 4., 4., 4., 4., 2., 4., 4., 5., 5., 1., 1., 3., 1., 2.,\n",
              "       1., 3., 3., 5., 2., 4., 1., 3., 4., 4., 2., 5., 5., 4., 2.])"
            ]
          },
          "metadata": {
            "tags": []
          },
          "execution_count": 31
        }
      ]
    }
  ]
}